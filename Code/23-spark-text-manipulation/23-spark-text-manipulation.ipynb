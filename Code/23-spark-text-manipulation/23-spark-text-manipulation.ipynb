{
 "cells": [
  {
   "cell_type": "markdown",
   "metadata": {
    "application/vnd.databricks.v1+cell": {
     "cellMetadata": {},
     "inputWidgets": {},
     "nuid": "d66834bb-2781-4fd7-8db5-9c9b5e2c1268",
     "showTitle": false,
     "title": ""
    }
   },
   "source": [
    "# Example 2: Text Manipulation RDD"
   ]
  },
  {
   "cell_type": "code",
   "execution_count": 0,
   "metadata": {
    "application/vnd.databricks.v1+cell": {
     "cellMetadata": {
      "byteLimit": 2048000,
      "rowLimit": 10000
     },
     "inputWidgets": {},
     "nuid": "7fdbd37e-424b-41f1-9258-04c1fee37f39",
     "showTitle": false,
     "title": ""
    }
   },
   "outputs": [
    {
     "name": "stdout",
     "output_type": "stream",
     "text": [
      "Original Text RDD result: ['Hello Spark', 'Hello Scala', 'Hello World']\n"
     ]
    }
   ],
   "source": [
    "text = [\"Hello Spark\", \"Hello Scala\", \"Hello World\"]\n",
    "text_rdd = sc.parallelize(text)\n",
    "print(f\"Original Text RDD result: {text_rdd.take(10)}\")\n"
   ]
  },
  {
   "cell_type": "code",
   "execution_count": 0,
   "metadata": {
    "application/vnd.databricks.v1+cell": {
     "cellMetadata": {
      "byteLimit": 2048000,
      "rowLimit": 10000
     },
     "inputWidgets": {},
     "nuid": "8e69fa25-6c31-4ce8-b431-957ce676a88a",
     "showTitle": false,
     "title": ""
    }
   },
   "outputs": [
    {
     "name": "stdout",
     "output_type": "stream",
     "text": [
      "Words RDD result: ['Hello', 'Spark', 'Hello', 'Scala', 'Hello', 'World']\n"
     ]
    }
   ],
   "source": [
    "\n",
    "words_rdd = text_rdd.flatMap(lambda line: line.split(\" \"))\n",
    "print(f\"Words RDD result: {words_rdd.take(10)}\")\n"
   ]
  },
  {
   "cell_type": "code",
   "execution_count": 0,
   "metadata": {
    "application/vnd.databricks.v1+cell": {
     "cellMetadata": {
      "byteLimit": 2048000,
      "rowLimit": 10000
     },
     "inputWidgets": {},
     "nuid": "2986cd80-251c-4c34-bcce-97f862702d3d",
     "showTitle": false,
     "title": ""
    }
   },
   "outputs": [
    {
     "name": "stdout",
     "output_type": "stream",
     "text": [
      "Upper Words RDD result: ['HELLO', 'SPARK', 'HELLO', 'SCALA', 'HELLO', 'WORLD']\n"
     ]
    }
   ],
   "source": [
    "\n",
    "upper_words_rdd = words_rdd.map(lambda word: word.upper())\n",
    "print(f\"Upper Words RDD result: {upper_words_rdd.take(10)}\")\n"
   ]
  }
 ],
 "metadata": {
  "application/vnd.databricks.v1+notebook": {
   "dashboards": [],
   "environmentMetadata": null,
   "language": "python",
   "notebookMetadata": {
    "pythonIndentUnit": 2
   },
   "notebookName": "23-spark-text-manipulation",
   "widgets": {}
  },
  "jupytext": {
   "formats": "ipynb,md"
  }
 },
 "nbformat": 4,
 "nbformat_minor": 0
}
