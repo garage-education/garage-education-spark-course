{
 "cells": [
  {
   "cell_type": "markdown",
   "metadata": {
    "application/vnd.databricks.v1+cell": {
     "cellMetadata": {
      "byteLimit": 2048000,
      "rowLimit": 10000
     },
     "inputWidgets": {},
     "nuid": "41780c16-ca72-4572-8834-c951e3f38f63",
     "showTitle": false,
     "title": ""
    }
   },
   "source": [
    "# Join RDDs"
   ]
  },
  {
   "cell_type": "markdown",
   "metadata": {
    "application/vnd.databricks.v1+cell": {
     "cellMetadata": {
      "byteLimit": 2048000,
      "rowLimit": 10000
     },
     "inputWidgets": {},
     "nuid": "90849ee8-c140-4e3d-9274-a6da90d2d53e",
     "showTitle": false,
     "title": ""
    }
   },
   "source": [
    "## Browse Databricks datasets "
   ]
  },
  {
   "cell_type": "code",
   "execution_count": 0,
   "metadata": {
    "application/vnd.databricks.v1+cell": {
     "cellMetadata": {
      "byteLimit": 2048000,
      "rowLimit": 10000
     },
     "inputWidgets": {},
     "nuid": "a96032f3-acd7-47a3-9744-c4707d742315",
     "showTitle": false,
     "title": ""
    }
   },
   "outputs": [
    {
     "data": {
      "text/html": [
       "<style scoped>\n",
       "  .table-result-container {\n",
       "    max-height: 300px;\n",
       "    overflow: auto;\n",
       "  }\n",
       "  table, th, td {\n",
       "    border: 1px solid black;\n",
       "    border-collapse: collapse;\n",
       "  }\n",
       "  th, td {\n",
       "    padding: 5px;\n",
       "  }\n",
       "  th {\n",
       "    text-align: left;\n",
       "  }\n",
       "</style><div class='table-result-container'><table class='table-result'><thead style='background-color: white'><tr><th>path</th><th>name</th><th>size</th><th>modificationTime</th></tr></thead><tbody><tr><td>dbfs:/databricks-datasets/COVID/</td><td>COVID/</td><td>0</td><td>0</td></tr><tr><td>dbfs:/databricks-datasets/README.md</td><td>README.md</td><td>976</td><td>1532468253000</td></tr><tr><td>dbfs:/databricks-datasets/Rdatasets/</td><td>Rdatasets/</td><td>0</td><td>0</td></tr><tr><td>dbfs:/databricks-datasets/SPARK_README.md</td><td>SPARK_README.md</td><td>3359</td><td>1455043490000</td></tr><tr><td>dbfs:/databricks-datasets/adult/</td><td>adult/</td><td>0</td><td>0</td></tr><tr><td>dbfs:/databricks-datasets/airlines/</td><td>airlines/</td><td>0</td><td>0</td></tr><tr><td>dbfs:/databricks-datasets/amazon/</td><td>amazon/</td><td>0</td><td>0</td></tr><tr><td>dbfs:/databricks-datasets/asa/</td><td>asa/</td><td>0</td><td>0</td></tr><tr><td>dbfs:/databricks-datasets/atlas_higgs/</td><td>atlas_higgs/</td><td>0</td><td>0</td></tr><tr><td>dbfs:/databricks-datasets/bikeSharing/</td><td>bikeSharing/</td><td>0</td><td>0</td></tr><tr><td>dbfs:/databricks-datasets/cctvVideos/</td><td>cctvVideos/</td><td>0</td><td>0</td></tr><tr><td>dbfs:/databricks-datasets/credit-card-fraud/</td><td>credit-card-fraud/</td><td>0</td><td>0</td></tr><tr><td>dbfs:/databricks-datasets/cs100/</td><td>cs100/</td><td>0</td><td>0</td></tr><tr><td>dbfs:/databricks-datasets/cs110x/</td><td>cs110x/</td><td>0</td><td>0</td></tr><tr><td>dbfs:/databricks-datasets/cs190/</td><td>cs190/</td><td>0</td><td>0</td></tr><tr><td>dbfs:/databricks-datasets/data.gov/</td><td>data.gov/</td><td>0</td><td>0</td></tr><tr><td>dbfs:/databricks-datasets/definitive-guide/</td><td>definitive-guide/</td><td>0</td><td>0</td></tr><tr><td>dbfs:/databricks-datasets/delta-sharing/</td><td>delta-sharing/</td><td>0</td><td>0</td></tr><tr><td>dbfs:/databricks-datasets/flights/</td><td>flights/</td><td>0</td><td>0</td></tr><tr><td>dbfs:/databricks-datasets/flower_photos/</td><td>flower_photos/</td><td>0</td><td>0</td></tr><tr><td>dbfs:/databricks-datasets/flowers/</td><td>flowers/</td><td>0</td><td>0</td></tr><tr><td>dbfs:/databricks-datasets/genomics/</td><td>genomics/</td><td>0</td><td>0</td></tr><tr><td>dbfs:/databricks-datasets/hail/</td><td>hail/</td><td>0</td><td>0</td></tr><tr><td>dbfs:/databricks-datasets/identifying-campaign-effectiveness/</td><td>identifying-campaign-effectiveness/</td><td>0</td><td>0</td></tr><tr><td>dbfs:/databricks-datasets/iot/</td><td>iot/</td><td>0</td><td>0</td></tr><tr><td>dbfs:/databricks-datasets/iot-stream/</td><td>iot-stream/</td><td>0</td><td>0</td></tr><tr><td>dbfs:/databricks-datasets/learning-spark/</td><td>learning-spark/</td><td>0</td><td>0</td></tr><tr><td>dbfs:/databricks-datasets/learning-spark-v2/</td><td>learning-spark-v2/</td><td>0</td><td>0</td></tr><tr><td>dbfs:/databricks-datasets/lending-club-loan-stats/</td><td>lending-club-loan-stats/</td><td>0</td><td>0</td></tr><tr><td>dbfs:/databricks-datasets/med-images/</td><td>med-images/</td><td>0</td><td>0</td></tr><tr><td>dbfs:/databricks-datasets/media/</td><td>media/</td><td>0</td><td>0</td></tr><tr><td>dbfs:/databricks-datasets/mnist-digits/</td><td>mnist-digits/</td><td>0</td><td>0</td></tr><tr><td>dbfs:/databricks-datasets/news20.binary/</td><td>news20.binary/</td><td>0</td><td>0</td></tr><tr><td>dbfs:/databricks-datasets/nyctaxi/</td><td>nyctaxi/</td><td>0</td><td>0</td></tr><tr><td>dbfs:/databricks-datasets/nyctaxi-with-zipcodes/</td><td>nyctaxi-with-zipcodes/</td><td>0</td><td>0</td></tr><tr><td>dbfs:/databricks-datasets/online_retail/</td><td>online_retail/</td><td>0</td><td>0</td></tr><tr><td>dbfs:/databricks-datasets/overlap-join/</td><td>overlap-join/</td><td>0</td><td>0</td></tr><tr><td>dbfs:/databricks-datasets/power-plant/</td><td>power-plant/</td><td>0</td><td>0</td></tr><tr><td>dbfs:/databricks-datasets/retail-org/</td><td>retail-org/</td><td>0</td><td>0</td></tr><tr><td>dbfs:/databricks-datasets/rwe/</td><td>rwe/</td><td>0</td><td>0</td></tr><tr><td>dbfs:/databricks-datasets/sai-summit-2019-sf/</td><td>sai-summit-2019-sf/</td><td>0</td><td>0</td></tr><tr><td>dbfs:/databricks-datasets/sample_logs/</td><td>sample_logs/</td><td>0</td><td>0</td></tr><tr><td>dbfs:/databricks-datasets/samples/</td><td>samples/</td><td>0</td><td>0</td></tr><tr><td>dbfs:/databricks-datasets/sfo_customer_survey/</td><td>sfo_customer_survey/</td><td>0</td><td>0</td></tr><tr><td>dbfs:/databricks-datasets/sms_spam_collection/</td><td>sms_spam_collection/</td><td>0</td><td>0</td></tr><tr><td>dbfs:/databricks-datasets/songs/</td><td>songs/</td><td>0</td><td>0</td></tr><tr><td>dbfs:/databricks-datasets/structured-streaming/</td><td>structured-streaming/</td><td>0</td><td>0</td></tr><tr><td>dbfs:/databricks-datasets/timeseries/</td><td>timeseries/</td><td>0</td><td>0</td></tr><tr><td>dbfs:/databricks-datasets/tpch/</td><td>tpch/</td><td>0</td><td>0</td></tr><tr><td>dbfs:/databricks-datasets/travel_recommendations_realtime/</td><td>travel_recommendations_realtime/</td><td>0</td><td>0</td></tr><tr><td>dbfs:/databricks-datasets/warmup/</td><td>warmup/</td><td>0</td><td>0</td></tr><tr><td>dbfs:/databricks-datasets/weather/</td><td>weather/</td><td>0</td><td>0</td></tr><tr><td>dbfs:/databricks-datasets/wiki/</td><td>wiki/</td><td>0</td><td>0</td></tr><tr><td>dbfs:/databricks-datasets/wikipedia-datasets/</td><td>wikipedia-datasets/</td><td>0</td><td>0</td></tr><tr><td>dbfs:/databricks-datasets/wine-quality/</td><td>wine-quality/</td><td>0</td><td>0</td></tr></tbody></table></div>"
      ]
     },
     "metadata": {
      "application/vnd.databricks.v1+output": {
       "addedWidgets": {},
       "aggData": [],
       "aggError": "",
       "aggOverflow": false,
       "aggSchema": [],
       "aggSeriesLimitReached": false,
       "aggType": "",
       "arguments": {},
       "columnCustomDisplayInfos": {},
       "data": [
        [
         "dbfs:/databricks-datasets/COVID/",
         "COVID/",
         0,
         0
        ],
        [
         "dbfs:/databricks-datasets/README.md",
         "README.md",
         976,
         1532468253000
        ],
        [
         "dbfs:/databricks-datasets/Rdatasets/",
         "Rdatasets/",
         0,
         0
        ],
        [
         "dbfs:/databricks-datasets/SPARK_README.md",
         "SPARK_README.md",
         3359,
         1455043490000
        ],
        [
         "dbfs:/databricks-datasets/adult/",
         "adult/",
         0,
         0
        ],
        [
         "dbfs:/databricks-datasets/airlines/",
         "airlines/",
         0,
         0
        ],
        [
         "dbfs:/databricks-datasets/amazon/",
         "amazon/",
         0,
         0
        ],
        [
         "dbfs:/databricks-datasets/asa/",
         "asa/",
         0,
         0
        ],
        [
         "dbfs:/databricks-datasets/atlas_higgs/",
         "atlas_higgs/",
         0,
         0
        ],
        [
         "dbfs:/databricks-datasets/bikeSharing/",
         "bikeSharing/",
         0,
         0
        ],
        [
         "dbfs:/databricks-datasets/cctvVideos/",
         "cctvVideos/",
         0,
         0
        ],
        [
         "dbfs:/databricks-datasets/credit-card-fraud/",
         "credit-card-fraud/",
         0,
         0
        ],
        [
         "dbfs:/databricks-datasets/cs100/",
         "cs100/",
         0,
         0
        ],
        [
         "dbfs:/databricks-datasets/cs110x/",
         "cs110x/",
         0,
         0
        ],
        [
         "dbfs:/databricks-datasets/cs190/",
         "cs190/",
         0,
         0
        ],
        [
         "dbfs:/databricks-datasets/data.gov/",
         "data.gov/",
         0,
         0
        ],
        [
         "dbfs:/databricks-datasets/definitive-guide/",
         "definitive-guide/",
         0,
         0
        ],
        [
         "dbfs:/databricks-datasets/delta-sharing/",
         "delta-sharing/",
         0,
         0
        ],
        [
         "dbfs:/databricks-datasets/flights/",
         "flights/",
         0,
         0
        ],
        [
         "dbfs:/databricks-datasets/flower_photos/",
         "flower_photos/",
         0,
         0
        ],
        [
         "dbfs:/databricks-datasets/flowers/",
         "flowers/",
         0,
         0
        ],
        [
         "dbfs:/databricks-datasets/genomics/",
         "genomics/",
         0,
         0
        ],
        [
         "dbfs:/databricks-datasets/hail/",
         "hail/",
         0,
         0
        ],
        [
         "dbfs:/databricks-datasets/identifying-campaign-effectiveness/",
         "identifying-campaign-effectiveness/",
         0,
         0
        ],
        [
         "dbfs:/databricks-datasets/iot/",
         "iot/",
         0,
         0
        ],
        [
         "dbfs:/databricks-datasets/iot-stream/",
         "iot-stream/",
         0,
         0
        ],
        [
         "dbfs:/databricks-datasets/learning-spark/",
         "learning-spark/",
         0,
         0
        ],
        [
         "dbfs:/databricks-datasets/learning-spark-v2/",
         "learning-spark-v2/",
         0,
         0
        ],
        [
         "dbfs:/databricks-datasets/lending-club-loan-stats/",
         "lending-club-loan-stats/",
         0,
         0
        ],
        [
         "dbfs:/databricks-datasets/med-images/",
         "med-images/",
         0,
         0
        ],
        [
         "dbfs:/databricks-datasets/media/",
         "media/",
         0,
         0
        ],
        [
         "dbfs:/databricks-datasets/mnist-digits/",
         "mnist-digits/",
         0,
         0
        ],
        [
         "dbfs:/databricks-datasets/news20.binary/",
         "news20.binary/",
         0,
         0
        ],
        [
         "dbfs:/databricks-datasets/nyctaxi/",
         "nyctaxi/",
         0,
         0
        ],
        [
         "dbfs:/databricks-datasets/nyctaxi-with-zipcodes/",
         "nyctaxi-with-zipcodes/",
         0,
         0
        ],
        [
         "dbfs:/databricks-datasets/online_retail/",
         "online_retail/",
         0,
         0
        ],
        [
         "dbfs:/databricks-datasets/overlap-join/",
         "overlap-join/",
         0,
         0
        ],
        [
         "dbfs:/databricks-datasets/power-plant/",
         "power-plant/",
         0,
         0
        ],
        [
         "dbfs:/databricks-datasets/retail-org/",
         "retail-org/",
         0,
         0
        ],
        [
         "dbfs:/databricks-datasets/rwe/",
         "rwe/",
         0,
         0
        ],
        [
         "dbfs:/databricks-datasets/sai-summit-2019-sf/",
         "sai-summit-2019-sf/",
         0,
         0
        ],
        [
         "dbfs:/databricks-datasets/sample_logs/",
         "sample_logs/",
         0,
         0
        ],
        [
         "dbfs:/databricks-datasets/samples/",
         "samples/",
         0,
         0
        ],
        [
         "dbfs:/databricks-datasets/sfo_customer_survey/",
         "sfo_customer_survey/",
         0,
         0
        ],
        [
         "dbfs:/databricks-datasets/sms_spam_collection/",
         "sms_spam_collection/",
         0,
         0
        ],
        [
         "dbfs:/databricks-datasets/songs/",
         "songs/",
         0,
         0
        ],
        [
         "dbfs:/databricks-datasets/structured-streaming/",
         "structured-streaming/",
         0,
         0
        ],
        [
         "dbfs:/databricks-datasets/timeseries/",
         "timeseries/",
         0,
         0
        ],
        [
         "dbfs:/databricks-datasets/tpch/",
         "tpch/",
         0,
         0
        ],
        [
         "dbfs:/databricks-datasets/travel_recommendations_realtime/",
         "travel_recommendations_realtime/",
         0,
         0
        ],
        [
         "dbfs:/databricks-datasets/warmup/",
         "warmup/",
         0,
         0
        ],
        [
         "dbfs:/databricks-datasets/weather/",
         "weather/",
         0,
         0
        ],
        [
         "dbfs:/databricks-datasets/wiki/",
         "wiki/",
         0,
         0
        ],
        [
         "dbfs:/databricks-datasets/wikipedia-datasets/",
         "wikipedia-datasets/",
         0,
         0
        ],
        [
         "dbfs:/databricks-datasets/wine-quality/",
         "wine-quality/",
         0,
         0
        ]
       ],
       "datasetInfos": [],
       "dbfsResultPath": null,
       "isJsonSchema": true,
       "metadata": {},
       "overflow": false,
       "plotOptions": {
        "customPlotOptions": {},
        "displayType": "table",
        "pivotAggregation": null,
        "pivotColumns": null,
        "xColumns": null,
        "yColumns": null
       },
       "removedWidgets": [],
       "schema": [
        {
         "metadata": "{}",
         "name": "path",
         "type": "\"string\""
        },
        {
         "metadata": "{}",
         "name": "name",
         "type": "\"string\""
        },
        {
         "metadata": "{}",
         "name": "size",
         "type": "\"long\""
        },
        {
         "metadata": "{}",
         "name": "modificationTime",
         "type": "\"long\""
        }
       ],
       "type": "table"
      }
     },
     "output_type": "display_data"
    }
   ],
   "source": [
    "#https://docs.databricks.com/en/discover/databricks-datasets.html\n",
    "display(dbutils.fs.ls('/databricks-datasets'))"
   ]
  },
  {
   "cell_type": "markdown",
   "metadata": {
    "application/vnd.databricks.v1+cell": {
     "cellMetadata": {
      "byteLimit": 2048000,
      "rowLimit": 10000
     },
     "inputWidgets": {},
     "nuid": "4a04178c-dea3-454a-a1ef-211cfee83649",
     "showTitle": false,
     "title": ""
    }
   },
   "source": [
    "## TPCH Data Analysis tpch"
   ]
  },
  {
   "cell_type": "code",
   "execution_count": 0,
   "metadata": {
    "application/vnd.databricks.v1+cell": {
     "cellMetadata": {
      "byteLimit": 2048000,
      "rowLimit": 10000
     },
     "inputWidgets": {},
     "nuid": "30546213-b0c4-4ed2-b01c-0f2bef04d1d4",
     "showTitle": false,
     "title": ""
    }
   },
   "outputs": [
    {
     "data": {
      "text/html": [
       "<style scoped>\n",
       "  .table-result-container {\n",
       "    max-height: 300px;\n",
       "    overflow: auto;\n",
       "  }\n",
       "  table, th, td {\n",
       "    border: 1px solid black;\n",
       "    border-collapse: collapse;\n",
       "  }\n",
       "  th, td {\n",
       "    padding: 5px;\n",
       "  }\n",
       "  th {\n",
       "    text-align: left;\n",
       "  }\n",
       "</style><div class='table-result-container'><table class='table-result'><thead style='background-color: white'><tr><th>path</th><th>name</th><th>size</th><th>modificationTime</th></tr></thead><tbody><tr><td>dbfs:/databricks-datasets/tpch/data-001/README.md</td><td>README.md</td><td>236</td><td>1419281876000</td></tr><tr><td>dbfs:/databricks-datasets/tpch/data-001/customer/</td><td>customer/</td><td>0</td><td>0</td></tr><tr><td>dbfs:/databricks-datasets/tpch/data-001/lineitem/</td><td>lineitem/</td><td>0</td><td>0</td></tr><tr><td>dbfs:/databricks-datasets/tpch/data-001/nation/</td><td>nation/</td><td>0</td><td>0</td></tr><tr><td>dbfs:/databricks-datasets/tpch/data-001/orders/</td><td>orders/</td><td>0</td><td>0</td></tr><tr><td>dbfs:/databricks-datasets/tpch/data-001/part/</td><td>part/</td><td>0</td><td>0</td></tr><tr><td>dbfs:/databricks-datasets/tpch/data-001/partsupp/</td><td>partsupp/</td><td>0</td><td>0</td></tr><tr><td>dbfs:/databricks-datasets/tpch/data-001/region/</td><td>region/</td><td>0</td><td>0</td></tr><tr><td>dbfs:/databricks-datasets/tpch/data-001/supplier/</td><td>supplier/</td><td>0</td><td>0</td></tr></tbody></table></div>"
      ]
     },
     "metadata": {
      "application/vnd.databricks.v1+output": {
       "addedWidgets": {},
       "aggData": [],
       "aggError": "",
       "aggOverflow": false,
       "aggSchema": [],
       "aggSeriesLimitReached": false,
       "aggType": "",
       "arguments": {},
       "columnCustomDisplayInfos": {},
       "data": [
        [
         "dbfs:/databricks-datasets/tpch/data-001/README.md",
         "README.md",
         236,
         1419281876000
        ],
        [
         "dbfs:/databricks-datasets/tpch/data-001/customer/",
         "customer/",
         0,
         0
        ],
        [
         "dbfs:/databricks-datasets/tpch/data-001/lineitem/",
         "lineitem/",
         0,
         0
        ],
        [
         "dbfs:/databricks-datasets/tpch/data-001/nation/",
         "nation/",
         0,
         0
        ],
        [
         "dbfs:/databricks-datasets/tpch/data-001/orders/",
         "orders/",
         0,
         0
        ],
        [
         "dbfs:/databricks-datasets/tpch/data-001/part/",
         "part/",
         0,
         0
        ],
        [
         "dbfs:/databricks-datasets/tpch/data-001/partsupp/",
         "partsupp/",
         0,
         0
        ],
        [
         "dbfs:/databricks-datasets/tpch/data-001/region/",
         "region/",
         0,
         0
        ],
        [
         "dbfs:/databricks-datasets/tpch/data-001/supplier/",
         "supplier/",
         0,
         0
        ]
       ],
       "datasetInfos": [],
       "dbfsResultPath": null,
       "isJsonSchema": true,
       "metadata": {},
       "overflow": false,
       "plotOptions": {
        "customPlotOptions": {},
        "displayType": "table",
        "pivotAggregation": null,
        "pivotColumns": null,
        "xColumns": null,
        "yColumns": null
       },
       "removedWidgets": [],
       "schema": [
        {
         "metadata": "{}",
         "name": "path",
         "type": "\"string\""
        },
        {
         "metadata": "{}",
         "name": "name",
         "type": "\"string\""
        },
        {
         "metadata": "{}",
         "name": "size",
         "type": "\"long\""
        },
        {
         "metadata": "{}",
         "name": "modificationTime",
         "type": "\"long\""
        }
       ],
       "type": "table"
      }
     },
     "output_type": "display_data"
    }
   ],
   "source": [
    "display(dbutils.fs.ls(\"/databricks-datasets/tpch/data-001/\"))"
   ]
  },
  {
   "cell_type": "markdown",
   "metadata": {
    "application/vnd.databricks.v1+cell": {
     "cellMetadata": {
      "byteLimit": 2048000,
      "rowLimit": 10000
     },
     "inputWidgets": {},
     "nuid": "97a11382-217c-4632-a6b1-2fd9aeb6bbf0",
     "showTitle": false,
     "title": ""
    }
   },
   "source": [
    "### Analyze `Parts` dataset"
   ]
  },
  {
   "cell_type": "code",
   "execution_count": 0,
   "metadata": {
    "application/vnd.databricks.v1+cell": {
     "cellMetadata": {
      "byteLimit": 2048000,
      "rowLimit": 10000
     },
     "inputWidgets": {},
     "nuid": "88c11aa8-e75b-477c-8aea-160355d0fe91",
     "showTitle": false,
     "title": ""
    }
   },
   "outputs": [
    {
     "name": "stdout",
     "output_type": "stream",
     "text": [
      "Out[3]: ['1|goldenrod lavender spring chocolate lace|Manufacturer#1|Brand#13|PROMO BURNISHED COPPER|7|JUMBO PKG|901.00|ly. slyly ironi|',\n",
      " '2|blush thistle blue yellow saddle|Manufacturer#1|Brand#13|LARGE BRUSHED BRASS|1|LG CASE|902.00|lar accounts amo|',\n",
      " '3|spring green yellow purple cornsilk|Manufacturer#4|Brand#42|STANDARD POLISHED BRASS|21|WRAP CASE|903.00|egular deposits hag|',\n",
      " '4|cornflower chocolate smoke green pink|Manufacturer#3|Brand#34|SMALL PLATED BRASS|14|MED DRUM|904.00|p furiously r|',\n",
      " '5|forest brown coral puff cream|Manufacturer#3|Brand#32|STANDARD POLISHED TIN|15|SM PKG|905.00| wake carefully |',\n",
      " '6|bisque cornflower lawn forest magenta|Manufacturer#2|Brand#24|PROMO PLATED STEEL|4|MED BAG|906.00|sual a|',\n",
      " '7|moccasin green thistle khaki floral|Manufacturer#1|Brand#11|SMALL PLATED COPPER|45|SM BAG|907.00|lyly. ex|',\n",
      " '8|misty lace thistle snow royal|Manufacturer#4|Brand#44|PROMO BURNISHED TIN|41|LG DRUM|908.00|eposi|',\n",
      " '9|thistle dim navajo dark gainsboro|Manufacturer#4|Brand#43|SMALL BURNISHED STEEL|12|WRAP CASE|909.00|ironic foxe|',\n",
      " '10|linen pink saddle puff powder|Manufacturer#5|Brand#54|LARGE BURNISHED STEEL|44|LG CAN|910.01|ithely final deposit|']"
     ]
    }
   ],
   "source": [
    "# Read input part dataset as RDD[String]\n",
    "part_input = sc.textFile(\"/databricks-datasets/tpch/data-001/part/\")\n",
    "part_input.take(10)"
   ]
  },
  {
   "cell_type": "code",
   "execution_count": 0,
   "metadata": {
    "application/vnd.databricks.v1+cell": {
     "cellMetadata": {
      "byteLimit": 2048000,
      "rowLimit": 10000
     },
     "inputWidgets": {},
     "nuid": "ce384cde-01aa-4926-b63f-1aa233ccf9a4",
     "showTitle": false,
     "title": ""
    }
   },
   "outputs": [
    {
     "name": "stdout",
     "output_type": "stream",
     "text": [
      "Out[4]: [['1',\n",
      "  'goldenrod lavender spring chocolate lace',\n",
      "  'Manufacturer#1',\n",
      "  'Brand#13',\n",
      "  'PROMO BURNISHED COPPER',\n",
      "  '7',\n",
      "  'JUMBO PKG',\n",
      "  '901.00',\n",
      "  'ly. slyly ironi',\n",
      "  ''],\n",
      " ['2',\n",
      "  'blush thistle blue yellow saddle',\n",
      "  'Manufacturer#1',\n",
      "  'Brand#13',\n",
      "  'LARGE BRUSHED BRASS',\n",
      "  '1',\n",
      "  'LG CASE',\n",
      "  '902.00',\n",
      "  'lar accounts amo',\n",
      "  ''],\n",
      " ['3',\n",
      "  'spring green yellow purple cornsilk',\n",
      "  'Manufacturer#4',\n",
      "  'Brand#42',\n",
      "  'STANDARD POLISHED BRASS',\n",
      "  '21',\n",
      "  'WRAP CASE',\n",
      "  '903.00',\n",
      "  'egular deposits hag',\n",
      "  ''],\n",
      " ['4',\n",
      "  'cornflower chocolate smoke green pink',\n",
      "  'Manufacturer#3',\n",
      "  'Brand#34',\n",
      "  'SMALL PLATED BRASS',\n",
      "  '14',\n",
      "  'MED DRUM',\n",
      "  '904.00',\n",
      "  'p furiously r',\n",
      "  ''],\n",
      " ['5',\n",
      "  'forest brown coral puff cream',\n",
      "  'Manufacturer#3',\n",
      "  'Brand#32',\n",
      "  'STANDARD POLISHED TIN',\n",
      "  '15',\n",
      "  'SM PKG',\n",
      "  '905.00',\n",
      "  ' wake carefully ',\n",
      "  ''],\n",
      " ['6',\n",
      "  'bisque cornflower lawn forest magenta',\n",
      "  'Manufacturer#2',\n",
      "  'Brand#24',\n",
      "  'PROMO PLATED STEEL',\n",
      "  '4',\n",
      "  'MED BAG',\n",
      "  '906.00',\n",
      "  'sual a',\n",
      "  ''],\n",
      " ['7',\n",
      "  'moccasin green thistle khaki floral',\n",
      "  'Manufacturer#1',\n",
      "  'Brand#11',\n",
      "  'SMALL PLATED COPPER',\n",
      "  '45',\n",
      "  'SM BAG',\n",
      "  '907.00',\n",
      "  'lyly. ex',\n",
      "  ''],\n",
      " ['8',\n",
      "  'misty lace thistle snow royal',\n",
      "  'Manufacturer#4',\n",
      "  'Brand#44',\n",
      "  'PROMO BURNISHED TIN',\n",
      "  '41',\n",
      "  'LG DRUM',\n",
      "  '908.00',\n",
      "  'eposi',\n",
      "  ''],\n",
      " ['9',\n",
      "  'thistle dim navajo dark gainsboro',\n",
      "  'Manufacturer#4',\n",
      "  'Brand#43',\n",
      "  'SMALL BURNISHED STEEL',\n",
      "  '12',\n",
      "  'WRAP CASE',\n",
      "  '909.00',\n",
      "  'ironic foxe',\n",
      "  ''],\n",
      " ['10',\n",
      "  'linen pink saddle puff powder',\n",
      "  'Manufacturer#5',\n",
      "  'Brand#54',\n",
      "  'LARGE BURNISHED STEEL',\n",
      "  '44',\n",
      "  'LG CAN',\n",
      "  '910.01',\n",
      "  'ithely final deposit',\n",
      "  '']]"
     ]
    }
   ],
   "source": [
    "# Split the input data\n",
    "part_input_splitted = part_input.map(lambda p: p.split('|'))\n",
    "part_input_splitted.take(10)"
   ]
  },
  {
   "cell_type": "markdown",
   "metadata": {
    "application/vnd.databricks.v1+cell": {
     "cellMetadata": {
      "byteLimit": 2048000,
      "rowLimit": 10000
     },
     "inputWidgets": {},
     "nuid": "dc74a70e-18af-482a-ad68-0a41d54e287e",
     "showTitle": false,
     "title": ""
    }
   },
   "source": [
    "### Apply simple filteration for malformed records \n",
    "Assume any record with more than 9 columns is malformed\n",
    "https://github.com/oracle/heatwave-tpch/blob/main/TPCH/create_tables.sql\n",
    "```sql\n",
    "CREATE TABLE PART  ( P_PARTKEY     INTEGER NOT NULL,\n",
    "                     P_NAME        VARCHAR(55) NOT NULL,\n",
    "                     P_MFGR        CHAR(25) NOT NULL,\n",
    "                     P_BRAND       CHAR(10) NOT NULL,\n",
    "                     P_TYPE        VARCHAR(25) NOT NULL,\n",
    "                     P_SIZE        INTEGER NOT NULL,\n",
    "                     P_CONTAINER   CHAR(10) NOT NULL,\n",
    "                     P_RETAILPRICE DECIMAL(15,2) NOT NULL,\n",
    "                     P_COMMENT     VARCHAR(23) NOT NULL,\n",
    "                     PRIMARY KEY (P_PARTKEY));\n",
    "CREATE TABLE PARTSUPP ( PS_PARTKEY     INTEGER NOT NULL,\n",
    "                        PS_SUPPKEY     INTEGER NOT NULL,\n",
    "                        PS_AVAILQTY    INTEGER NOT NULL,\n",
    "                        PS_SUPPLYCOST  DECIMAL(15,2)  NOT NULL,\n",
    "                        PS_COMMENT     VARCHAR(199) NOT NULL,\n",
    "                        PRIMARY KEY (PS_PARTKEY, PS_SUPPKEY));\n",
    "```"
   ]
  },
  {
   "cell_type": "code",
   "execution_count": 0,
   "metadata": {
    "application/vnd.databricks.v1+cell": {
     "cellMetadata": {
      "byteLimit": 2048000,
      "rowLimit": 10000
     },
     "inputWidgets": {},
     "nuid": "512f6228-50ef-4af1-ad99-25e13ba537c5",
     "showTitle": false,
     "title": ""
    }
   },
   "outputs": [
    {
     "name": "stdout",
     "output_type": "stream",
     "text": [
      "Out[5]: [['1',\n",
      "  'goldenrod lavender spring chocolate lace',\n",
      "  'Manufacturer#1',\n",
      "  'Brand#13',\n",
      "  'PROMO BURNISHED COPPER',\n",
      "  '7',\n",
      "  'JUMBO PKG',\n",
      "  '901.00',\n",
      "  'ly. slyly ironi',\n",
      "  ''],\n",
      " ['2',\n",
      "  'blush thistle blue yellow saddle',\n",
      "  'Manufacturer#1',\n",
      "  'Brand#13',\n",
      "  'LARGE BRUSHED BRASS',\n",
      "  '1',\n",
      "  'LG CASE',\n",
      "  '902.00',\n",
      "  'lar accounts amo',\n",
      "  ''],\n",
      " ['3',\n",
      "  'spring green yellow purple cornsilk',\n",
      "  'Manufacturer#4',\n",
      "  'Brand#42',\n",
      "  'STANDARD POLISHED BRASS',\n",
      "  '21',\n",
      "  'WRAP CASE',\n",
      "  '903.00',\n",
      "  'egular deposits hag',\n",
      "  ''],\n",
      " ['4',\n",
      "  'cornflower chocolate smoke green pink',\n",
      "  'Manufacturer#3',\n",
      "  'Brand#34',\n",
      "  'SMALL PLATED BRASS',\n",
      "  '14',\n",
      "  'MED DRUM',\n",
      "  '904.00',\n",
      "  'p furiously r',\n",
      "  ''],\n",
      " ['5',\n",
      "  'forest brown coral puff cream',\n",
      "  'Manufacturer#3',\n",
      "  'Brand#32',\n",
      "  'STANDARD POLISHED TIN',\n",
      "  '15',\n",
      "  'SM PKG',\n",
      "  '905.00',\n",
      "  ' wake carefully ',\n",
      "  ''],\n",
      " ['6',\n",
      "  'bisque cornflower lawn forest magenta',\n",
      "  'Manufacturer#2',\n",
      "  'Brand#24',\n",
      "  'PROMO PLATED STEEL',\n",
      "  '4',\n",
      "  'MED BAG',\n",
      "  '906.00',\n",
      "  'sual a',\n",
      "  ''],\n",
      " ['7',\n",
      "  'moccasin green thistle khaki floral',\n",
      "  'Manufacturer#1',\n",
      "  'Brand#11',\n",
      "  'SMALL PLATED COPPER',\n",
      "  '45',\n",
      "  'SM BAG',\n",
      "  '907.00',\n",
      "  'lyly. ex',\n",
      "  ''],\n",
      " ['8',\n",
      "  'misty lace thistle snow royal',\n",
      "  'Manufacturer#4',\n",
      "  'Brand#44',\n",
      "  'PROMO BURNISHED TIN',\n",
      "  '41',\n",
      "  'LG DRUM',\n",
      "  '908.00',\n",
      "  'eposi',\n",
      "  ''],\n",
      " ['9',\n",
      "  'thistle dim navajo dark gainsboro',\n",
      "  'Manufacturer#4',\n",
      "  'Brand#43',\n",
      "  'SMALL BURNISHED STEEL',\n",
      "  '12',\n",
      "  'WRAP CASE',\n",
      "  '909.00',\n",
      "  'ironic foxe',\n",
      "  ''],\n",
      " ['10',\n",
      "  'linen pink saddle puff powder',\n",
      "  'Manufacturer#5',\n",
      "  'Brand#54',\n",
      "  'LARGE BURNISHED STEEL',\n",
      "  '44',\n",
      "  'LG CAN',\n",
      "  '910.01',\n",
      "  'ithely final deposit',\n",
      "  '']]"
     ]
    }
   ],
   "source": [
    "PART_SIZE = 10\n",
    "\n",
    "# Split part input and parse it into RDD[(partKey, Part)]\n",
    "part_mapped = part_input_splitted \\\n",
    "    .filter(lambda arr: len(arr) == PART_SIZE)\n",
    "part_mapped.take(10)  "
   ]
  },
  {
   "cell_type": "code",
   "execution_count": 0,
   "metadata": {
    "application/vnd.databricks.v1+cell": {
     "cellMetadata": {
      "byteLimit": 2048000,
      "rowLimit": 10000
     },
     "inputWidgets": {},
     "nuid": "48eeb40c-5bcc-44ce-b421-140e03dbed1b",
     "showTitle": false,
     "title": ""
    }
   },
   "outputs": [
    {
     "name": "stdout",
     "output_type": "stream",
     "text": [
      "Out[6]: []"
     ]
    }
   ],
   "source": [
    "# Catch the rejected records which aren't matching the case class size\n",
    "part_rejected = part_input_splitted.filter(lambda arr: len(arr) != PART_SIZE)\n",
    "\n",
    "## Any better way to filter?\n",
    "part_rejected.take(10)\n"
   ]
  },
  {
   "cell_type": "code",
   "execution_count": 0,
   "metadata": {
    "application/vnd.databricks.v1+cell": {
     "cellMetadata": {
      "byteLimit": 2048000,
      "rowLimit": 10000
     },
     "inputWidgets": {},
     "nuid": "420eac03-90d5-41c2-84de-deb8b9975a4c",
     "showTitle": false,
     "title": ""
    }
   },
   "outputs": [
    {
     "name": "stdout",
     "output_type": "stream",
     "text": [
      "Number of rejected records = 0\n",
      "Number of parsed records = 1000000\n"
     ]
    }
   ],
   "source": [
    "# Display parsed and rejected records count\n",
    "print(f\"Number of rejected records = {part_rejected.count()}\")\n",
    "print(f\"Number of parsed records = {part_mapped.count()}\")"
   ]
  },
  {
   "cell_type": "code",
   "execution_count": 0,
   "metadata": {
    "application/vnd.databricks.v1+cell": {
     "cellMetadata": {
      "byteLimit": 2048000,
      "rowLimit": 10000
     },
     "inputWidgets": {},
     "nuid": "1bd635d6-fd59-43bc-b3a4-df47d273d5c5",
     "showTitle": false,
     "title": ""
    }
   },
   "outputs": [],
   "source": [
    "class Part:\n",
    "    def __init__(self, p_partkey, p_name, p_mfgr, p_brand, p_type, p_size, p_container, p_retailprice, p_comment):\n",
    "        self.p_partkey = p_partkey\n",
    "        self.p_name = p_name\n",
    "        self.p_mfgr = p_mfgr\n",
    "        self.p_brand = p_brand\n",
    "        self.p_type = p_type\n",
    "        self.p_size = p_size\n",
    "        self.p_container = p_container\n",
    "        self.p_retailprice = p_retailprice\n",
    "        self.p_comment = p_comment\n",
    "\n",
    "    def __repr__(self):\n",
    "        return f\"Part({self.p_partkey}, {self.p_name}, {self.p_mfgr}, {self.p_brand}, {self.p_type}, {self.p_size}, {self.p_container}, {self.p_retailprice}, {self.p_comment})\"\n"
   ]
  },
  {
   "cell_type": "code",
   "execution_count": 0,
   "metadata": {
    "application/vnd.databricks.v1+cell": {
     "cellMetadata": {
      "byteLimit": 2048000,
      "rowLimit": 10000
     },
     "inputWidgets": {},
     "nuid": "b6657d8f-61f7-4eb2-963a-e3c069618b28",
     "showTitle": false,
     "title": ""
    }
   },
   "outputs": [
    {
     "name": "stdout",
     "output_type": "stream",
     "text": [
      "Out[9]: [(1,\n",
      "  Part(1, goldenrod lavender spring chocolate lace, Manufacturer#1, Brand#13, PROMO BURNISHED COPPER, 7, JUMBO PKG, 901.0, ly. slyly ironi)),\n",
      " (2,\n",
      "  Part(2, blush thistle blue yellow saddle, Manufacturer#1, Brand#13, LARGE BRUSHED BRASS, 1, LG CASE, 902.0, lar accounts amo)),\n",
      " (3,\n",
      "  Part(3, spring green yellow purple cornsilk, Manufacturer#4, Brand#42, STANDARD POLISHED BRASS, 21, WRAP CASE, 903.0, egular deposits hag)),\n",
      " (4,\n",
      "  Part(4, cornflower chocolate smoke green pink, Manufacturer#3, Brand#34, SMALL PLATED BRASS, 14, MED DRUM, 904.0, p furiously r)),\n",
      " (5,\n",
      "  Part(5, forest brown coral puff cream, Manufacturer#3, Brand#32, STANDARD POLISHED TIN, 15, SM PKG, 905.0,  wake carefully )),\n",
      " (6,\n",
      "  Part(6, bisque cornflower lawn forest magenta, Manufacturer#2, Brand#24, PROMO PLATED STEEL, 4, MED BAG, 906.0, sual a)),\n",
      " (7,\n",
      "  Part(7, moccasin green thistle khaki floral, Manufacturer#1, Brand#11, SMALL PLATED COPPER, 45, SM BAG, 907.0, lyly. ex)),\n",
      " (8,\n",
      "  Part(8, misty lace thistle snow royal, Manufacturer#4, Brand#44, PROMO BURNISHED TIN, 41, LG DRUM, 908.0, eposi)),\n",
      " (9,\n",
      "  Part(9, thistle dim navajo dark gainsboro, Manufacturer#4, Brand#43, SMALL BURNISHED STEEL, 12, WRAP CASE, 909.0, ironic foxe)),\n",
      " (10,\n",
      "  Part(10, linen pink saddle puff powder, Manufacturer#5, Brand#54, LARGE BURNISHED STEEL, 44, LG CAN, 910.01, ithely final deposit))]"
     ]
    }
   ],
   "source": [
    "part_transformed = part_mapped.map(lambda arr: (int(arr[0]), Part(int(arr[0]), arr[1], arr[2], arr[3], arr[4], int(arr[5]), arr[6], float(arr[7]), arr[8])))\n",
    "part_transformed.take(10)\n",
    "\n",
    "# RDD [(Int, Part)]"
   ]
  },
  {
   "cell_type": "markdown",
   "metadata": {
    "application/vnd.databricks.v1+cell": {
     "cellMetadata": {
      "byteLimit": 2048000,
      "rowLimit": 10000
     },
     "inputWidgets": {},
     "nuid": "bd0c3d8e-4a81-4c2b-92c4-084472e1fa1a",
     "showTitle": false,
     "title": ""
    }
   },
   "source": [
    "### Read and Parse the `partsupp` Dataset"
   ]
  },
  {
   "cell_type": "code",
   "execution_count": 0,
   "metadata": {
    "application/vnd.databricks.v1+cell": {
     "cellMetadata": {
      "byteLimit": 2048000,
      "rowLimit": 10000
     },
     "inputWidgets": {},
     "nuid": "7d115d56-ea7e-40b8-923e-b176f676b904",
     "showTitle": false,
     "title": ""
    }
   },
   "outputs": [],
   "source": [
    "class PartSupp:\n",
    "    def __init__(self, ps_partkey, ps_suppkey, ps_availqty, ps_supplycost, ps_comment):\n",
    "        self.ps_partkey = ps_partkey\n",
    "        self.ps_suppkey = ps_suppkey\n",
    "        self.ps_availqty = ps_availqty\n",
    "        self.ps_supplycost = ps_supplycost\n",
    "        self.ps_comment = ps_comment\n",
    "\n",
    "    def __repr__(self):\n",
    "        return f\"PartSupp({self.ps_partkey}, {self.ps_suppkey}, {self.ps_availqty}, {self.ps_supplycost}, {self.ps_comment})\"\n"
   ]
  },
  {
   "cell_type": "code",
   "execution_count": 0,
   "metadata": {
    "application/vnd.databricks.v1+cell": {
     "cellMetadata": {
      "byteLimit": 2048000,
      "rowLimit": 10000
     },
     "inputWidgets": {},
     "nuid": "f3b7f9b8-fd68-47af-aa39-3bb191eaf260",
     "showTitle": false,
     "title": ""
    }
   },
   "outputs": [
    {
     "name": "stdout",
     "output_type": "stream",
     "text": [
      "Out[11]: ['1|2|3325|771.64|, even theodolites. regular, final theodolites eat after the carefully pending foxes. furiously regular deposits sleep slyly. carefully bold realms above the ironic dependencies haggle careful|',\n",
      " '1|12502|8076|993.49|ven ideas. quickly even packages print. pending multipliers must have to are fluff|',\n",
      " '1|25002|3956|337.09|after the fluffily ironic deposits? blithely special dependencies integrate furiously even excuses. blithely silent theodolites could have to haggle pending, express requests; fu|',\n",
      " '1|37502|4069|357.84|al, regular dependencies serve carefully after the quickly final pinto beans. furiously even deposits sleep quickly final, silent pinto beans. fluffily reg|',\n",
      " '2|3|8895|378.49|nic accounts. final accounts sleep furiously about the ironic, bold packages. regular, regular accounts|',\n",
      " '2|12503|4969|915.27|ptotes. quickly pending dependencies integrate furiously. fluffily ironic ideas impress blithely above the express accounts. furiously even epitaphs need to wak|',\n",
      " '2|25003|8539|438.37|blithely bold ideas. furiously stealthy packages sleep fluffily. slyly special deposits snooze furiously carefully regular accounts. regular deposits according to the accounts nag carefully slyl|',\n",
      " '2|37503|3025|306.39|olites. deposits wake carefully. even, express requests cajole. carefully regular ex|',\n",
      " '3|4|4651|920.92|ilent foxes affix furiously quickly unusual requests. even packages across the carefully even theodolites nag above the sp|',\n",
      " '3|12504|4093|498.13|ending dependencies haggle fluffily. regular deposits boost quickly carefully regular requests. deposits affix furiously around the pinto beans. ironic, unusual platelets across the p|']"
     ]
    }
   ],
   "source": [
    "# Read input partSupp dataset as RDD[String]\n",
    "partsupp_input = sc.textFile(\"/databricks-datasets/tpch/data-001/partsupp/\")\n",
    "\n",
    "partsupp_input.take(10)"
   ]
  },
  {
   "cell_type": "code",
   "execution_count": 0,
   "metadata": {
    "application/vnd.databricks.v1+cell": {
     "cellMetadata": {
      "byteLimit": 2048000,
      "rowLimit": 10000
     },
     "inputWidgets": {},
     "nuid": "ff33704a-9e88-4988-b62c-2c7aaf7a14ae",
     "showTitle": false,
     "title": ""
    }
   },
   "outputs": [
    {
     "name": "stdout",
     "output_type": "stream",
     "text": [
      "Out[12]: [['1',\n",
      "  '2',\n",
      "  '3325',\n",
      "  '771.64',\n",
      "  ', even theodolites. regular, final theodolites eat after the carefully pending foxes. furiously regular deposits sleep slyly. carefully bold realms above the ironic dependencies haggle careful',\n",
      "  ''],\n",
      " ['1',\n",
      "  '12502',\n",
      "  '8076',\n",
      "  '993.49',\n",
      "  'ven ideas. quickly even packages print. pending multipliers must have to are fluff',\n",
      "  ''],\n",
      " ['1',\n",
      "  '25002',\n",
      "  '3956',\n",
      "  '337.09',\n",
      "  'after the fluffily ironic deposits? blithely special dependencies integrate furiously even excuses. blithely silent theodolites could have to haggle pending, express requests; fu',\n",
      "  ''],\n",
      " ['1',\n",
      "  '37502',\n",
      "  '4069',\n",
      "  '357.84',\n",
      "  'al, regular dependencies serve carefully after the quickly final pinto beans. furiously even deposits sleep quickly final, silent pinto beans. fluffily reg',\n",
      "  ''],\n",
      " ['2',\n",
      "  '3',\n",
      "  '8895',\n",
      "  '378.49',\n",
      "  'nic accounts. final accounts sleep furiously about the ironic, bold packages. regular, regular accounts',\n",
      "  ''],\n",
      " ['2',\n",
      "  '12503',\n",
      "  '4969',\n",
      "  '915.27',\n",
      "  'ptotes. quickly pending dependencies integrate furiously. fluffily ironic ideas impress blithely above the express accounts. furiously even epitaphs need to wak',\n",
      "  ''],\n",
      " ['2',\n",
      "  '25003',\n",
      "  '8539',\n",
      "  '438.37',\n",
      "  'blithely bold ideas. furiously stealthy packages sleep fluffily. slyly special deposits snooze furiously carefully regular accounts. regular deposits according to the accounts nag carefully slyl',\n",
      "  ''],\n",
      " ['2',\n",
      "  '37503',\n",
      "  '3025',\n",
      "  '306.39',\n",
      "  'olites. deposits wake carefully. even, express requests cajole. carefully regular ex',\n",
      "  ''],\n",
      " ['3',\n",
      "  '4',\n",
      "  '4651',\n",
      "  '920.92',\n",
      "  'ilent foxes affix furiously quickly unusual requests. even packages across the carefully even theodolites nag above the sp',\n",
      "  ''],\n",
      " ['3',\n",
      "  '12504',\n",
      "  '4093',\n",
      "  '498.13',\n",
      "  'ending dependencies haggle fluffily. regular deposits boost quickly carefully regular requests. deposits affix furiously around the pinto beans. ironic, unusual platelets across the p',\n",
      "  '']]"
     ]
    }
   ],
   "source": [
    "\n",
    "# Split the input data\n",
    "partsupp_input_splitted = partsupp_input.map(lambda p: p.split('|'))\n",
    "partsupp_input_splitted.take(10)\n"
   ]
  },
  {
   "cell_type": "code",
   "execution_count": 0,
   "metadata": {
    "application/vnd.databricks.v1+cell": {
     "cellMetadata": {
      "byteLimit": 2048000,
      "rowLimit": 10000
     },
     "inputWidgets": {},
     "nuid": "0e248bf6-ba3d-4d14-a984-6d559622dc50",
     "showTitle": false,
     "title": ""
    }
   },
   "outputs": [
    {
     "name": "stdout",
     "output_type": "stream",
     "text": [
      "Out[13]: [(1,\n",
      "  PartSupp(1, 2, 3325, 771.64, , even theodolites. regular, final theodolites eat after the carefully pending foxes. furiously regular deposits sleep slyly. carefully bold realms above the ironic dependencies haggle careful)),\n",
      " (1,\n",
      "  PartSupp(1, 12502, 8076, 993.49, ven ideas. quickly even packages print. pending multipliers must have to are fluff)),\n",
      " (1,\n",
      "  PartSupp(1, 25002, 3956, 337.09, after the fluffily ironic deposits? blithely special dependencies integrate furiously even excuses. blithely silent theodolites could have to haggle pending, express requests; fu)),\n",
      " (1,\n",
      "  PartSupp(1, 37502, 4069, 357.84, al, regular dependencies serve carefully after the quickly final pinto beans. furiously even deposits sleep quickly final, silent pinto beans. fluffily reg)),\n",
      " (2,\n",
      "  PartSupp(2, 3, 8895, 378.49, nic accounts. final accounts sleep furiously about the ironic, bold packages. regular, regular accounts)),\n",
      " (2,\n",
      "  PartSupp(2, 12503, 4969, 915.27, ptotes. quickly pending dependencies integrate furiously. fluffily ironic ideas impress blithely above the express accounts. furiously even epitaphs need to wak)),\n",
      " (2,\n",
      "  PartSupp(2, 25003, 8539, 438.37, blithely bold ideas. furiously stealthy packages sleep fluffily. slyly special deposits snooze furiously carefully regular accounts. regular deposits according to the accounts nag carefully slyl)),\n",
      " (2,\n",
      "  PartSupp(2, 37503, 3025, 306.39, olites. deposits wake carefully. even, express requests cajole. carefully regular ex)),\n",
      " (3,\n",
      "  PartSupp(3, 4, 4651, 920.92, ilent foxes affix furiously quickly unusual requests. even packages across the carefully even theodolites nag above the sp)),\n",
      " (3,\n",
      "  PartSupp(3, 12504, 4093, 498.13, ending dependencies haggle fluffily. regular deposits boost quickly carefully regular requests. deposits affix furiously around the pinto beans. ironic, unusual platelets across the p))]"
     ]
    }
   ],
   "source": [
    "PARTSUPP_SIZE = 6\n",
    "\n",
    "# Split partSupp input and parse it into RDD[(partKey, PartSupp)]\n",
    "partsupp_mapped = partsupp_input_splitted \\\n",
    "    .filter(lambda arr: len(arr) == PARTSUPP_SIZE) \\\n",
    "    .map(lambda arr: (int(arr[0]), PartSupp(int(arr[0]), int(arr[1]), int(arr[2]), float(arr[3]), arr[4])))\n",
    "partsupp_mapped.take(10)\n",
    "# RDD [ (integer , PartSupp)]"
   ]
  },
  {
   "cell_type": "code",
   "execution_count": 0,
   "metadata": {
    "application/vnd.databricks.v1+cell": {
     "cellMetadata": {
      "byteLimit": 2048000,
      "rowLimit": 10000
     },
     "inputWidgets": {},
     "nuid": "6c863102-093c-4ec2-9e93-45da7f7da600",
     "showTitle": false,
     "title": ""
    }
   },
   "outputs": [
    {
     "name": "stdout",
     "output_type": "stream",
     "text": [
      "Number of rejected records = 0\n",
      "Number of parsed records = 4000000\n"
     ]
    }
   ],
   "source": [
    "    \n",
    "\n",
    "# Catch the rejected records which aren't matching the case class size\n",
    "partsupp_rejected = partsupp_input_splitted.filter(lambda arr: len(arr) != PARTSUPP_SIZE)\n",
    "\n",
    "# Display parsed and rejected records count\n",
    "print(f\"Number of rejected records = {partsupp_rejected.count()}\")\n",
    "print(f\"Number of parsed records = {partsupp_mapped.count()}\")"
   ]
  },
  {
   "cell_type": "markdown",
   "metadata": {
    "application/vnd.databricks.v1+cell": {
     "cellMetadata": {
      "byteLimit": 2048000,
      "rowLimit": 10000
     },
     "inputWidgets": {},
     "nuid": "e8c43483-6c2b-4fd4-a1cc-eed6a3727d71",
     "showTitle": false,
     "title": ""
    }
   },
   "source": [
    "# Join the part and partsupp Datasets"
   ]
  },
  {
   "cell_type": "code",
   "execution_count": 0,
   "metadata": {
    "application/vnd.databricks.v1+cell": {
     "cellMetadata": {
      "byteLimit": 2048000,
      "rowLimit": 10000
     },
     "inputWidgets": {},
     "nuid": "f5c4879b-40a3-4272-8022-b84ae1efb1a6",
     "showTitle": false,
     "title": ""
    }
   },
   "outputs": [],
   "source": []
  },
  {
   "cell_type": "code",
   "execution_count": 0,
   "metadata": {
    "application/vnd.databricks.v1+cell": {
     "cellMetadata": {
      "byteLimit": 2048000,
      "rowLimit": 10000
     },
     "inputWidgets": {},
     "nuid": "b5c622b5-a047-423c-a449-eb04f4d89ef6",
     "showTitle": false,
     "title": ""
    }
   },
   "outputs": [
    {
     "name": "stdout",
     "output_type": "stream",
     "text": [
      "Number of joined records = 4000000\n"
     ]
    }
   ],
   "source": [
    "# PartRDD -> RDD[ (integer, Part)]\n",
    "# PartSuppRDD -> RDD [ (integer, PartSupp)]\n",
    "# JoinedRDD -> RDD [(integer,(Part,PartSupp)) ]\n",
    "# Perform inner join on part and partsupp datasets\n",
    "part_joined_partsupp = part_transformed.join(partsupp_mapped)\n",
    "\n",
    "# Take the first 10 elements of the joined RDD and print them\n",
    "# for record in part_joined_partsupp.take(10):\n",
    "#     print(record)\n",
    "\n",
    "# Print the count of joined records\n",
    "print(f\"Number of joined records = {part_joined_partsupp.count()}\")"
   ]
  }
 ],
 "metadata": {
  "application/vnd.databricks.v1+notebook": {
   "dashboards": [],
   "environmentMetadata": null,
   "language": "python",
   "notebookMetadata": {
    "pythonIndentUnit": 2
   },
   "notebookName": "25-Joining-RDDs",
   "widgets": {}
  },
  "jupytext": {
   "formats": "ipynb,md"
  }
 },
 "nbformat": 4,
 "nbformat_minor": 0
}
