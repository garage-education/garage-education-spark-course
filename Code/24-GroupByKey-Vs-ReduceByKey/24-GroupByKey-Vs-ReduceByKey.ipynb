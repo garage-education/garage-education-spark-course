{
 "cells": [
  {
   "cell_type": "markdown",
   "metadata": {
    "application/vnd.databricks.v1+cell": {
     "cellMetadata": {},
     "inputWidgets": {},
     "nuid": "5b86902d-e2c3-4828-83f5-af46c9b4e919",
     "showTitle": false,
     "title": ""
    }
   },
   "source": [
    "# Aggregation: groupByKey V. reduceByKey"
   ]
  },
  {
   "cell_type": "code",
   "execution_count": 0,
   "metadata": {
    "application/vnd.databricks.v1+cell": {
     "cellMetadata": {
      "byteLimit": 2048000,
      "rowLimit": 10000
     },
     "inputWidgets": {},
     "nuid": "f6561ee4-7561-4174-9e51-442076561a62",
     "showTitle": false,
     "title": ""
    }
   },
   "outputs": [
    {
     "name": "stdout",
     "output_type": "stream",
     "text": [
      "Original Pairs RDD result: [('A', 1), ('B', 1), ('A', 2), ('B', 2), ('A', 3), ('A', 1), ('B', 1), ('A', 2), ('B', 2), ('A', 3)]\n"
     ]
    }
   ],
   "source": [
    "\n",
    "# Example 3: Group By Transformation\n",
    "pairs_rdd = sc.parallelize([(\"A\", 1), (\"B\", 1), (\"A\", 2), (\"B\", 2), (\"A\", 3)] * 5000000)\n",
    "print(f\"Original Pairs RDD result: {pairs_rdd.take(10)}\")\n"
   ]
  },
  {
   "cell_type": "code",
   "execution_count": 0,
   "metadata": {
    "application/vnd.databricks.v1+cell": {
     "cellMetadata": {
      "byteLimit": 2048000,
      "rowLimit": 10000
     },
     "inputWidgets": {},
     "nuid": "8e20b539-fffe-476e-b335-4467d32a7361",
     "showTitle": false,
     "title": ""
    }
   },
   "outputs": [
    {
     "name": "stdout",
     "output_type": "stream",
     "text": [
      "GroupByKey duration: 15.3733 seconds\n",
      "Grouped RDD result (sum): [('B', 15000000), ('A', 30000000)]\n"
     ]
    }
   ],
   "source": [
    "import time\n",
    "# Measure performance of groupByKey and sum\n",
    "start_time = time.time()\n",
    "grouped_rdd = pairs_rdd.groupByKey().mapValues(lambda values: sum(values))\n",
    "grouped_result = grouped_rdd.collect()\n",
    "group_by_key_duration = time.time() - start_time\n",
    "print(f\"GroupByKey duration: {group_by_key_duration:.4f} seconds\")\n",
    "print(f\"Grouped RDD result (sum): {grouped_result[:10]}\")  # Display only the first 10 results for brevity"
   ]
  },
  {
   "cell_type": "code",
   "execution_count": 0,
   "metadata": {
    "application/vnd.databricks.v1+cell": {
     "cellMetadata": {
      "byteLimit": 2048000,
      "rowLimit": 10000
     },
     "inputWidgets": {},
     "nuid": "acd9fc7c-02ee-45b7-9303-1ea4923e9f95",
     "showTitle": false,
     "title": ""
    }
   },
   "outputs": [
    {
     "name": "stdout",
     "output_type": "stream",
     "text": [
      "ReduceByKey duration: 14.6480 seconds\n",
      "Reduced RDD result: [('B', 15000000), ('A', 30000000)]\n"
     ]
    }
   ],
   "source": [
    "# Measure performance of reduceByKey and sum\n",
    "start_time = time.time()\n",
    "reduced_rdd = pairs_rdd.reduceByKey(lambda x, y: x + y)\n",
    "reduced_result = reduced_rdd.collect()\n",
    "reduce_by_key_duration = time.time() - start_time\n",
    "print(f\"ReduceByKey duration: {reduce_by_key_duration:.4f} seconds\")\n",
    "print(f\"Reduced RDD result: {reduced_result[:10]}\")  # Display only the first 10 results for brevity"
   ]
  }
 ],
 "metadata": {
  "application/vnd.databricks.v1+notebook": {
   "dashboards": [],
   "environmentMetadata": null,
   "language": "python",
   "notebookMetadata": {
    "pythonIndentUnit": 2
   },
   "notebookName": "Ch.04-24-GroupByKey-Vs-ReduceByKey",
   "widgets": {}
  },
  "jupytext": {
   "formats": "ipynb,md"
  }
 },
 "nbformat": 4,
 "nbformat_minor": 0
}
